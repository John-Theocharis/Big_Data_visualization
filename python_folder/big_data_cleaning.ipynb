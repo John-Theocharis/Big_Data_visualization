{
 "cells": [
  {
   "cell_type": "code",
   "execution_count": 35,
   "metadata": {},
   "outputs": [],
   "source": [
    "import pandas as pd\n"
   ]
  },
  {
   "cell_type": "code",
   "execution_count": 36,
   "metadata": {},
   "outputs": [],
   "source": [
    "df1 = pd.read_excel('claims-2002-2006_0.xls')\n",
    "df2 = pd.read_excel('claims-2007-2009_0.xls')\n",
    "df3 = pd.read_excel('claims-2010-2013_0.xls')\n",
    "df4 = pd.read_excel('claims-2014.xls')"
   ]
  },
  {
   "cell_type": "code",
   "execution_count": 38,
   "metadata": {},
   "outputs": [
    {
     "name": "stdout",
     "output_type": "stream",
     "text": [
      "195596\n"
     ]
    }
   ],
   "source": [
    "# Count the rows for each dataframe\n",
    "num_rows_df1 = len(df1)\n",
    "num_rows_df2 = len(df2)\n",
    "num_rows_df3 = len(df3)\n",
    "num_rows_df4 = len(df4)\n",
    "\n",
    "# Sum the row counts\n",
    "total_num_rows = num_rows_df1 + num_rows_df2 + num_rows_df3 + num_rows_df4\n",
    "\n",
    "# Print the result\n",
    "print(total_num_rows)"
   ]
  },
  {
   "cell_type": "code",
   "execution_count": 39,
   "metadata": {},
   "outputs": [],
   "source": [
    "# Collect the columns of each dataframe in a set\n",
    "columns_1 = set(df1.columns)\n",
    "columns_2 = set(df2.columns)\n",
    "columns_3 = set(df3.columns)\n",
    "columns_4 = set(df4.columns)"
   ]
  },
  {
   "cell_type": "code",
   "execution_count": 40,
   "metadata": {},
   "outputs": [
    {
     "name": "stdout",
     "output_type": "stream",
     "text": [
      "Columns of df1: Index(['Claim Number', 'Date Received', 'Incident Date', 'Airport Code',\n",
      "       'Airport Name', 'Airline Name', 'Claim Type', 'Claim Site', 'Item',\n",
      "       'Claim Amount', 'Status', 'Close Amount', 'Disposition'],\n",
      "      dtype='object')\n",
      "Columns of df2: Index(['Claim Number', 'Date Received', 'Incident Date', 'Airport Code',\n",
      "       'Airport Name', 'Airline Name', 'Claim Type', 'Claim Site', 'Item',\n",
      "       'Claim Amount', 'Status', 'Close Amount', 'Disposition'],\n",
      "      dtype='object')\n",
      "Columns of df3: Index(['Claim Number', 'Date Received', 'Incident Date', 'Airport Code',\n",
      "       'Airport Name', 'Airline Name', 'Claim Type', 'Claim Site',\n",
      "       'Item Category', 'Close Amount', 'Disposition'],\n",
      "      dtype='object')\n",
      "Columns of df4: Index(['Claim Number', 'Date Received', 'Incident Date', 'Airport Code',\n",
      "       'Airport Name', 'Airline Name', 'Claim Type', 'Claim Site',\n",
      "       'Item Category', 'Close Amount', 'Disposition'],\n",
      "      dtype='object')\n"
     ]
    }
   ],
   "source": [
    "# Print the different columns\n",
    "print(\"Columns of df1:\", df1.columns)\n",
    "print(\"Columns of df2:\", df2.columns)\n",
    "print(\"Columns of df3:\", df3.columns)\n",
    "print(\"Columns of df4:\", df4.columns)"
   ]
  },
  {
   "cell_type": "code",
   "execution_count": 41,
   "metadata": {},
   "outputs": [
    {
     "name": "stdout",
     "output_type": "stream",
     "text": [
      "{'Item Category', 'Item', 'Status', 'Claim Amount'}\n"
     ]
    }
   ],
   "source": [
    "# Collect the columns of each dataframe in a set\n",
    "columns_1 = set(df1.columns)\n",
    "columns_2 = set(df2.columns)\n",
    "columns_3 = set(df3.columns)\n",
    "columns_4 = set(df4.columns)\n",
    "\n",
    "# Find the different columns \n",
    "different_columns = columns_1.difference(columns_2).union(columns_2.difference(columns_3)).union(columns_3.difference(columns_4)).union(\n",
    "columns_4.difference(columns_1))\n",
    "\n",
    "# Print the different columns for the 4 datasets\n",
    "print(different_columns)"
   ]
  },
  {
   "cell_type": "code",
   "execution_count": 42,
   "metadata": {},
   "outputs": [
    {
     "name": "stdout",
     "output_type": "stream",
     "text": [
      "       Disposition                                             Status\n",
      "0             Deny                                             Denied\n",
      "1             Deny                                             Denied\n",
      "2             Deny                                             Denied\n",
      "3             Deny                                             Denied\n",
      "4              NaN  Insufficient, one of the following items requi...\n",
      "5  Approve in Full                                           Approved\n",
      "6  Approve in Full                                           Approved\n",
      "7  Approve in Full                                           Approved\n",
      "8  Approve in Full                                           Approved\n",
      "9  Approve in Full                                           Approved\n"
     ]
    }
   ],
   "source": [
    "subset = df2.loc[0:9, ['Disposition', 'Status']]\n",
    "\n",
    "# Print the subset dataframe\n",
    "print(subset)"
   ]
  },
  {
   "attachments": {},
   "cell_type": "markdown",
   "metadata": {},
   "source": [
    "# item differences\n",
    "The differences in the columns from the datasets are 'Item Category', 'Item', 'Status' and 'Claim Amount'.\n",
    "\n",
    "Item category and item is the same so there going to take the same name. claim amound is only in dataset claims-2007-2009_0.xls and reports the amount of money the victim was asking . due to the fact that this column is only in 1 of our 4 datasets it will be deleted. Status again is only in claims-2007-2009_0.xls and contains the information of disposition among a few more details . so Status will be renamed disposition and the column disposition is goint to be deleted"
   ]
  },
  {
   "cell_type": "code",
   "execution_count": 43,
   "metadata": {},
   "outputs": [],
   "source": [
    "# Drop the \"claim amount\" column from df2 and disposition for df2\n",
    "df1 = df1.drop(columns=['Claim Amount'])\n",
    "df1 = df1.drop(columns=['Disposition'])\n",
    "df1 = df1.rename(columns={'Status': 'Disposition'})\n",
    "\n",
    "# Drop the \"claim amount\" column from df2 and disposition for df2\n",
    "df2 = df2.drop(columns=['Claim Amount'])\n",
    "df2 = df2.drop(columns=['Disposition'])\n",
    "df2 = df2.rename(columns={'Status': 'Disposition'})\n",
    "\n",
    "\n",
    "# Rename the \"Item Category\" column to \"Item\" in df3\n",
    "df3 = df3.rename(columns={'Item Category': 'Item'})\n",
    "\n",
    "# Rename the \"Item Category\" column to \"Item\" in df4\n",
    "df4 = df4.rename(columns={'Item Category': 'Item'})"
   ]
  },
  {
   "cell_type": "code",
   "execution_count": 44,
   "metadata": {},
   "outputs": [
    {
     "name": "stdout",
     "output_type": "stream",
     "text": [
      "set()\n"
     ]
    }
   ],
   "source": [
    "\n",
    "columns_1 = set(df1.columns)\n",
    "columns_2 = set(df2.columns)\n",
    "columns_3 = set(df3.columns)\n",
    "columns_4 = set(df4.columns)\n",
    "\n",
    "# Find the different columns \n",
    "different_columns = columns_1.difference(columns_2).union(columns_2.difference(columns_3)).union(columns_3.difference(columns_4)).union(\n",
    "columns_4.difference(columns_1))\n",
    "\n",
    "# Print the different columns for the 4 datasets to see any remaining differences\n",
    "print(different_columns)"
   ]
  },
  {
   "cell_type": "code",
   "execution_count": 45,
   "metadata": {},
   "outputs": [
    {
     "name": "stdout",
     "output_type": "stream",
     "text": [
      "Number of columns: 11\n",
      "<class 'pandas.core.frame.DataFrame'>\n",
      "Index: 195596 entries, 0 to 8854\n",
      "Data columns (total 11 columns):\n",
      " #   Column         Non-Null Count   Dtype \n",
      "---  ------         --------------   ----- \n",
      " 0   Claim Number   195596 non-null  object\n",
      " 1   Date Received  195337 non-null  object\n",
      " 2   Incident Date  193417 non-null  object\n",
      " 3   Airport Code   187076 non-null  object\n",
      " 4   Airport Name   187076 non-null  object\n",
      " 5   Airline Name   161226 non-null  object\n",
      " 6   Claim Type     187687 non-null  object\n",
      " 7   Claim Site     194860 non-null  object\n",
      " 8   Item           191634 non-null  object\n",
      " 9   Disposition    195595 non-null  object\n",
      " 10  Close Amount   185767 non-null  object\n",
      "dtypes: object(11)\n",
      "memory usage: 17.9+ MB\n"
     ]
    }
   ],
   "source": [
    "# Concatenate the dataframes together\n",
    "final_df = pd.concat([df1, df2, df3, df4])\n",
    "# print(final_df.head(5))\n",
    "\n",
    "print('Number of columns:', final_df.shape[1])\n",
    "final_df.info()"
   ]
  }
 ],
 "metadata": {
  "kernelspec": {
   "display_name": "big_data_env",
   "language": "python",
   "name": "python3"
  },
  "language_info": {
   "codemirror_mode": {
    "name": "ipython",
    "version": 3
   },
   "file_extension": ".py",
   "mimetype": "text/x-python",
   "name": "python",
   "nbconvert_exporter": "python",
   "pygments_lexer": "ipython3",
   "version": "3.11.2"
  },
  "orig_nbformat": 4
 },
 "nbformat": 4,
 "nbformat_minor": 2
}
