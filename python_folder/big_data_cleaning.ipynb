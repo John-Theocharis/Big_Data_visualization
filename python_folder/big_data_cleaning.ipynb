{
 "cells": [
  {
   "cell_type": "code",
   "execution_count": 1,
   "metadata": {},
   "outputs": [],
   "source": [
    "import pandas as pd\n"
   ]
  },
  {
   "cell_type": "code",
   "execution_count": 2,
   "metadata": {},
   "outputs": [],
   "source": [
    "df1 = pd.read_excel('claims-2002-2006_0.xls')\n",
    "df2 = pd.read_excel('claims-2007-2009_0.xls')\n",
    "df3 = pd.read_excel('claims-2010-2013_0.xls')\n",
    "df4 = pd.read_excel('claims-2014.xls')"
   ]
  },
  {
   "cell_type": "code",
   "execution_count": 3,
   "metadata": {},
   "outputs": [],
   "source": [
    "# Collect the columns of each dataframe in a set\n",
    "columns_1 = set(df1.columns)\n",
    "columns_2 = set(df2.columns)\n",
    "columns_3 = set(df3.columns)\n",
    "columns_4 = set(df4.columns)"
   ]
  },
  {
   "cell_type": "code",
   "execution_count": 4,
   "metadata": {},
   "outputs": [
    {
     "name": "stdout",
     "output_type": "stream",
     "text": [
      "Columns of df1: Index(['Claim Number', 'Date Received', 'Incident Date', 'Airport Code',\n",
      "       'Airport Name', 'Airline Name', 'Claim Type', 'Claim Site', 'Item',\n",
      "       'Claim Amount', 'Status', 'Close Amount', 'Disposition'],\n",
      "      dtype='object')\n",
      "Columns of df2: Index(['Claim Number', 'Date Received', 'Incident Date', 'Airport Code',\n",
      "       'Airport Name', 'Airline Name', 'Claim Type', 'Claim Site', 'Item',\n",
      "       'Claim Amount', 'Status', 'Close Amount', 'Disposition'],\n",
      "      dtype='object')\n",
      "Columns of df3: Index(['Claim Number', 'Date Received', 'Incident Date', 'Airport Code',\n",
      "       'Airport Name', 'Airline Name', 'Claim Type', 'Claim Site',\n",
      "       'Item Category', 'Close Amount', 'Disposition'],\n",
      "      dtype='object')\n",
      "Columns of df4: Index(['Claim Number', 'Date Received', 'Incident Date', 'Airport Code',\n",
      "       'Airport Name', 'Airline Name', 'Claim Type', 'Claim Site',\n",
      "       'Item Category', 'Close Amount', 'Disposition'],\n",
      "      dtype='object')\n"
     ]
    }
   ],
   "source": [
    "# Print the different columns\n",
    "print(\"Columns of df1:\", df1.columns)\n",
    "print(\"Columns of df2:\", df2.columns)\n",
    "print(\"Columns of df3:\", df3.columns)\n",
    "print(\"Columns of df4:\", df4.columns)"
   ]
  },
  {
   "cell_type": "code",
   "execution_count": 25,
   "metadata": {},
   "outputs": [
    {
     "name": "stdout",
     "output_type": "stream",
     "text": [
      "{'Item Category', 'Item', 'Status', 'Claim Amount'}\n"
     ]
    }
   ],
   "source": [
    "# Collect the columns of each dataframe in a set\n",
    "columns_1 = set(df1.columns)\n",
    "columns_2 = set(df2.columns)\n",
    "columns_3 = set(df3.columns)\n",
    "columns_4 = set(df4.columns)\n",
    "\n",
    "# Find the different columns \n",
    "different_columns = columns_1.difference(columns_2).union(columns_2.difference(columns_3)).union(columns_3.difference(columns_4)).union(\n",
    "columns_4.difference(columns_1))\n",
    "\n",
    "# Print the different columns for the 4 datasets\n",
    "print(different_columns)"
   ]
  },
  {
   "cell_type": "code",
   "execution_count": 26,
   "metadata": {},
   "outputs": [
    {
     "name": "stdout",
     "output_type": "stream",
     "text": [
      "       Disposition                                             Status\n",
      "0             Deny                                             Denied\n",
      "1             Deny                                             Denied\n",
      "2             Deny                                             Denied\n",
      "3             Deny                                             Denied\n",
      "4              NaN  Insufficient, one of the following items requi...\n",
      "5  Approve in Full                                           Approved\n",
      "6  Approve in Full                                           Approved\n",
      "7  Approve in Full                                           Approved\n",
      "8  Approve in Full                                           Approved\n",
      "9  Approve in Full                                           Approved\n"
     ]
    }
   ],
   "source": [
    "subset = df2.loc[0:9, ['Disposition', 'Status']]\n",
    "\n",
    "# Print the subset dataframe\n",
    "print(subset)"
   ]
  },
  {
   "attachments": {},
   "cell_type": "markdown",
   "metadata": {},
   "source": [
    "# item differences\n",
    "The differences in the columns from the datasets are 'Item Category', 'Item', 'Status' and 'Claim Amount'.\n",
    "\n",
    "Item category and item is the same so there going to take the same name. claim amound is only in dataset claims-2007-2009_0.xls and reports the amount of money the victim was asking . due to the fact that this column is only in 1 of our 4 datasets it will be deleted. Status again is only in claims-2007-2009_0.xls and contains the information of disposition among a few more details . so Status will be renamed disposition and the column disposition is goint to be deleted"
   ]
  },
  {
   "cell_type": "code",
   "execution_count": 15,
   "metadata": {},
   "outputs": [
    {
     "name": "stdout",
     "output_type": "stream",
     "text": [
      "{'Item', 'Status', 'Claim Amount'}\n"
     ]
    }
   ],
   "source": []
  }
 ],
 "metadata": {
  "kernelspec": {
   "display_name": "big_data_env",
   "language": "python",
   "name": "python3"
  },
  "language_info": {
   "codemirror_mode": {
    "name": "ipython",
    "version": 3
   },
   "file_extension": ".py",
   "mimetype": "text/x-python",
   "name": "python",
   "nbconvert_exporter": "python",
   "pygments_lexer": "ipython3",
   "version": "3.11.2"
  },
  "orig_nbformat": 4
 },
 "nbformat": 4,
 "nbformat_minor": 2
}
